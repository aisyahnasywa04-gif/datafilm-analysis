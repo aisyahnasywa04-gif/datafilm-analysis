{
  "nbformat": 4,
  "nbformat_minor": 0,
  "metadata": {
    "colab": {
      "provenance": []
    },
    "kernelspec": {
      "name": "python3",
      "display_name": "Python 3"
    },
    "language_info": {
      "name": "python"
    }
  },
  "cells": [
    {
      "cell_type": "code",
      "source": [
        "import pandas as pd\n",
        "import json\n"
      ],
      "metadata": {
        "id": "ncr2buug9EFo"
      },
      "execution_count": 28,
      "outputs": []
    },
    {
      "cell_type": "code",
      "source": [
        "with open(\"/content/data_film.json\", \"r\", encoding=\"utf-8\") as f:\n",
        "    data = json.load(f)\n",
        "\n",
        "# ubah ke DataFrame\n",
        "datafilm = pd.DataFrame(data)\n"
      ],
      "metadata": {
        "id": "4SQR9QDN9FZp"
      },
      "execution_count": 29,
      "outputs": []
    },
    {
      "cell_type": "code",
      "source": [
        "print(\"Ukuran dataset:\", datafilm.shape)\n",
        "print(\"\\nInfo dataset:\")\n",
        "print(datafilm.info())"
      ],
      "metadata": {
        "colab": {
          "base_uri": "https://localhost:8080/"
        },
        "id": "sLSBEVsK-8fe",
        "outputId": "f607a05d-c3ca-4d3c-e6c6-a34e05655e05"
      },
      "execution_count": 30,
      "outputs": [
        {
          "output_type": "stream",
          "name": "stdout",
          "text": [
            "Ukuran dataset: (56276, 9)\n",
            "\n",
            "Info dataset:\n",
            "<class 'pandas.core.frame.DataFrame'>\n",
            "RangeIndex: 56276 entries, 0 to 56275\n",
            "Data columns (total 9 columns):\n",
            " #   Column      Non-Null Count  Dtype  \n",
            "---  ------      --------------  -----  \n",
            " 0   judul       56276 non-null  object \n",
            " 1   tags        51458 non-null  object \n",
            " 2   deskripsi   49358 non-null  object \n",
            " 3   sutradara   51340 non-null  object \n",
            " 4   bintang     51277 non-null  object \n",
            " 5   negara      28202 non-null  object \n",
            " 6   durasi      56276 non-null  object \n",
            " 7   rating      56276 non-null  float64\n",
            " 8   rilis_date  56276 non-null  object \n",
            "dtypes: float64(1), object(8)\n",
            "memory usage: 3.9+ MB\n",
            "None\n"
          ]
        }
      ]
    },
    {
      "cell_type": "code",
      "source": [
        "print(\"\\nContoh data:\")\n",
        "print(datafilm.head())"
      ],
      "metadata": {
        "colab": {
          "base_uri": "https://localhost:8080/"
        },
        "id": "q-oR8KIE_gaI",
        "outputId": "5351ccff-004d-4546-86d8-a8acdf90a036"
      },
      "execution_count": 31,
      "outputs": [
        {
          "output_type": "stream",
          "name": "stdout",
          "text": [
            "\n",
            "Contoh data:\n",
            "                       judul  \\\n",
            "0                   Superman   \n",
            "1              A Gilded Game   \n",
            "2              Night Carnage   \n",
            "3  Blood Brothers: Bara Naga   \n",
            "4      High Five aka Hi Five   \n",
            "\n",
            "                                                tags  \\\n",
            "0  Canada, Australia, United States, New Zealand,...   \n",
            "1                                      China, Action   \n",
            "2             United States, Action, Romance, Horror   \n",
            "3                     Malaysia, Drama, Action, Crime   \n",
            "4             South Korea, Comedy, Action, Adventure   \n",
            "\n",
            "                                           deskripsi       sutradara  \\\n",
            "0  Dalam versi reimajinasi yang epik dari Superma...      James Gunn   \n",
            "1  Seorang mahasiswa keuangan berbakat mendapatka...      Herman Yau   \n",
            "2  Seorang blogger manusia serigala bertemu denga...      Sadie Katz   \n",
            "3  Sekelompok pria yang bekerja di sebuah organis...  Sharnaaz Ahmad   \n",
            "4  Lima orang biasa, yang mengembangkan kekuatan ...       Yoo Ah-In   \n",
            "\n",
            "                                             bintang  \\\n",
            "0  Nicholas Hoult, Alan Tudyk, Rachel Brosnahan, ...   \n",
            "1                    Andy Lau, Hao Ou, James Filbird   \n",
            "2                                      United States   \n",
            "3                                           Malaysia   \n",
            "4                                        South Korea   \n",
            "\n",
            "                                          negara durasi  rating  rilis_date  \n",
            "0  Canada, Australia, United States, New Zealand  00:30     2.3  2006-02-26  \n",
            "1                                          China  00:37     1.7  2002-03-02  \n",
            "2                                           None  01:03     9.5  2009-11-12  \n",
            "3                                           None  00:54     9.6  2021-01-30  \n",
            "4                                           None  02:09     0.7  2011-04-04  \n"
          ]
        }
      ]
    },
    {
      "cell_type": "code",
      "source": [
        "print(\"\\nCek missing values:\")\n",
        "print(datafilm.isnull().sum())"
      ],
      "metadata": {
        "colab": {
          "base_uri": "https://localhost:8080/"
        },
        "id": "3Fhk5GzC_ieJ",
        "outputId": "d7450965-6ee9-43f9-e4c4-1b9b7c8b9de5"
      },
      "execution_count": 32,
      "outputs": [
        {
          "output_type": "stream",
          "name": "stdout",
          "text": [
            "\n",
            "Cek missing values:\n",
            "judul             0\n",
            "tags           4818\n",
            "deskripsi      6918\n",
            "sutradara      4936\n",
            "bintang        4999\n",
            "negara        28074\n",
            "durasi            0\n",
            "rating            0\n",
            "rilis_date        0\n",
            "dtype: int64\n"
          ]
        }
      ]
    },
    {
      "cell_type": "code",
      "source": [
        "cols_text = [\"tags\", \"deskripsi\", \"sutradara\", \"bintang\", \"negara\"]\n",
        "for col in cols_text:\n",
        "    datafilm[col] = datafilm[col].fillna(\"Unknown\")"
      ],
      "metadata": {
        "id": "Y3vV10mH_koY"
      },
      "execution_count": 33,
      "outputs": []
    },
    {
      "cell_type": "code",
      "source": [
        "# ubah kolom rilis_date jadi datetime\n",
        "datafilm[\"rilis_date\"] = pd.to_datetime(datafilm[\"rilis_date\"], errors=\"coerce\")\n"
      ],
      "metadata": {
        "id": "4z2j2VyE_nYz"
      },
      "execution_count": 34,
      "outputs": []
    },
    {
      "cell_type": "code",
      "source": [
        "# pastikan rating numeric\n",
        "datafilm[\"rating\"] = pd.to_numeric(datafilm[\"rating\"], errors=\"coerce\")"
      ],
      "metadata": {
        "id": "t5B2zaMQ_wpJ"
      },
      "execution_count": 35,
      "outputs": []
    },
    {
      "cell_type": "code",
      "source": [
        "datafilm = datafilm.drop_duplicates()"
      ],
      "metadata": {
        "id": "qiJAgd-__zPW"
      },
      "execution_count": 36,
      "outputs": []
    },
    {
      "cell_type": "code",
      "source": [
        "print(\"\\nSetelah cleaning:\")\n",
        "print(datafilm.isnull().sum())"
      ],
      "metadata": {
        "colab": {
          "base_uri": "https://localhost:8080/"
        },
        "id": "mkG5II-K_1n3",
        "outputId": "59a217d2-c212-42e9-9de3-05587d1a0645"
      },
      "execution_count": 37,
      "outputs": [
        {
          "output_type": "stream",
          "name": "stdout",
          "text": [
            "\n",
            "Setelah cleaning:\n",
            "judul         0\n",
            "tags          0\n",
            "deskripsi     0\n",
            "sutradara     0\n",
            "bintang       0\n",
            "negara        0\n",
            "durasi        0\n",
            "rating        0\n",
            "rilis_date    0\n",
            "dtype: int64\n"
          ]
        }
      ]
    },
    {
      "cell_type": "code",
      "source": [
        "datafilm.to_csv(\"datafilm_clean.csv\", index=False)"
      ],
      "metadata": {
        "id": "4scaxwQH_4QR"
      },
      "execution_count": 38,
      "outputs": []
    },
    {
      "cell_type": "code",
      "source": [],
      "metadata": {
        "id": "cONsZDQc_7F5"
      },
      "execution_count": null,
      "outputs": []
    }
  ]
}